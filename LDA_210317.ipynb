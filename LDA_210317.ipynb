{
 "cells": [
  {
   "cell_type": "code",
   "execution_count": null,
   "id": "54fafa0c",
   "metadata": {
    "ExecuteTime": {
     "end_time": "2022-01-31T09:54:43.756172Z",
     "start_time": "2022-01-31T09:54:43.150872Z"
    },
    "id": "54fafa0c"
   },
   "outputs": [],
   "source": [
    "import numpy as np\n",
    "import pandas as pd\n",
    "from IPython.display import display\n",
    "from tqdm import tqdm\n",
    "from collections import Counter\n",
    "import ast\n",
    "\n",
    "import matplotlib.pyplot as plt\n",
    "import matplotlib.mlab as mlab\n",
    "import seaborn as sb\n",
    "\n",
    "from sklearn.feature_extraction.text import CountVectorizer\n",
    "import scipy.stats as stats\n",
    "\n",
    "from sklearn.decomposition import TruncatedSVD\n",
    "from sklearn.decomposition import LatentDirichletAllocation\n",
    "from sklearn.manifold import TSNE\n",
    "\n",
    "from bokeh.plotting import figure, output_file, show\n",
    "from bokeh.models import Label\n",
    "from bokeh.io import output_notebook\n",
    "output_notebook()\n",
    "\n",
    "%matplotlib inline"
   ]
  },
  {
   "cell_type": "code",
   "execution_count": null,
   "id": "1f2d9a01",
   "metadata": {
    "ExecuteTime": {
     "end_time": "2022-01-31T10:23:09.834614Z",
     "start_time": "2022-01-31T10:23:08.913771Z"
    },
    "colab": {
     "base_uri": "https://localhost:8080/",
     "height": 1000
    },
    "id": "1f2d9a01",
    "outputId": "279b4ced-9acf-4642-de4c-d0a177e7282d"
   },
   "outputs": [
    {
     "output_type": "execute_result",
     "data": {
      "text/plain": [
       "      ID                                           title  \\\n",
       "0      0                                Smoke & Mirrors    \n",
       "1      1                                           Dede    \n",
       "2      2                              The Soul of Flies    \n",
       "3      3           The Unauthorised Melrose Place Story    \n",
       "4      4  Stolen By My Mother: The Kamiyah Mobley Story    \n",
       "..   ...                                             ...   \n",
       "147  147  Gone Mom: The Disappearance of Jennifer Dulos    \n",
       "148  148                                   Good Manners    \n",
       "149  149                                        Beaches    \n",
       "150  150                                        Resolve    \n",
       "151  151                                       Homesick    \n",
       "\n",
       "                                           description  \\\n",
       "0    The true story of a man who fooled an entire c...   \n",
       "1    A young woman living in a remote mountain vill...   \n",
       "2    A tale of two brothers who meet for the first ...   \n",
       "3    Discover the drama that went on behind the cam...   \n",
       "4    Based on the true story, an 18-year-old girl f...   \n",
       "..                                                 ...   \n",
       "147  Based on the true story of Jennifer Dulos, a w...   \n",
       "148  Clara, a lonely nurse from the outskirts of Sã...   \n",
       "149  An update to a classic tear-jerker, we witness...   \n",
       "150  Based on the true story of Chris Crean, who to...   \n",
       "151  An ambitious cellist is invited to represent G...   \n",
       "\n",
       "                                                   tag  \\\n",
       "0    genre:drama/crime-thriller,genre:drama,genre:d...   \n",
       "1    genre:drama,genre:drama/foreign-language-subti...   \n",
       "2    genre:movie,genre:drama/foreign-language-subti...   \n",
       "3    genre:movie,genre:closed-captions,genre:drama,...   \n",
       "4    genre:movie,genre:drama,genre:drama/real-life-...   \n",
       "..                                                 ...   \n",
       "147  genre:movie,genre:drama/real-life-stories,genr...   \n",
       "148  genre:drama/crime-thriller,genre:drama,genre:d...   \n",
       "149  genre:movie,genre:drama,genre:closed-captions,...   \n",
       "150  genre:movie,genre:drama,genre:drama/real-life-...   \n",
       "151  genre:drama,genre:drama/foreign-language-subti...   \n",
       "\n",
       "                                                 image  \\\n",
       "0    https://play-images-prod-ctf.tech.tvnz.co.nz/a...   \n",
       "1    https://play-images-prod-ctf.tech.tvnz.co.nz/a...   \n",
       "2    https://play-images-prod-ctf.tech.tvnz.co.nz/a...   \n",
       "3    https://play-images-prod-ctf.tech.tvnz.co.nz/a...   \n",
       "4    https://play-images-prod-ctf.tech.tvnz.co.nz/a...   \n",
       "..                                                 ...   \n",
       "147  https://play-images-prod-ctf.tech.tvnz.co.nz/a...   \n",
       "148  https://play-images-prod-ctf.tech.tvnz.co.nz/a...   \n",
       "149  https://play-images-prod-ctf.tech.tvnz.co.nz/a...   \n",
       "150  https://play-images-prod-ctf.tech.tvnz.co.nz/a...   \n",
       "151  https://play-images-prod-ctf.tech.tvnz.co.nz/a...   \n",
       "\n",
       "                                                  path  \\\n",
       "0    /Users/xutingxuan/Desktop/MSc ADS/B3_Personali...   \n",
       "1    /Users/xutingxuan/Desktop/MSc ADS/B3_Personali...   \n",
       "2    /Users/xutingxuan/Desktop/MSc ADS/B3_Personali...   \n",
       "3    /Users/xutingxuan/Desktop/MSc ADS/B3_Personali...   \n",
       "4    /Users/xutingxuan/Desktop/MSc ADS/B3_Personali...   \n",
       "..                                                 ...   \n",
       "147  /Users/xutingxuan/Desktop/MSc ADS/B3_Personali...   \n",
       "148  /Users/xutingxuan/Desktop/MSc ADS/B3_Personali...   \n",
       "149  /Users/xutingxuan/Desktop/MSc ADS/B3_Personali...   \n",
       "150  /Users/xutingxuan/Desktop/MSc ADS/B3_Personali...   \n",
       "151  /Users/xutingxuan/Desktop/MSc ADS/B3_Personali...   \n",
       "\n",
       "                                                 genre  \\\n",
       "0    crime-thriller, drama, foreign-language-subtit...   \n",
       "1    drama, foreign-language-subtitled, movie, real...   \n",
       "2            movie, foreign-language-subtitled, comedy   \n",
       "3    movie, closed-captions, drama, real-life-stori...   \n",
       "4                      movie, drama, real-life-stories   \n",
       "..                                                 ...   \n",
       "147    movie, real-life-stories, drama, crime-thriller   \n",
       "148  crime-thriller, drama, foreign-language-subtit...   \n",
       "149                      movie, drama, closed-captions   \n",
       "150  movie, drama, real-life-stories, sunday-theatr...   \n",
       "151           drama, foreign-language-subtitled, movie   \n",
       "\n",
       "                                         mood distributor branded-vod  \\\n",
       "0                       thrilling, mysterious      rialto  filmstream   \n",
       "1                    revealing, all-the-feels      rialto  filmstream   \n",
       "2                  quirky, irreverent, cheeky      rialto  filmstream   \n",
       "3                    nostalgic, all-the-feels         a-e    lifetime   \n",
       "4                                                     a-e    lifetime   \n",
       "..                                        ...         ...         ...   \n",
       "147      mysterious, thrilling, all-the-feels         a-e    lifetime   \n",
       "148          mysterious, scary, all-the-feels      rialto  filmstream   \n",
       "149  all-the-feels, nostalgic, warm-and-fuzzy         a-e    lifetime   \n",
       "150                                            screentime         NaN   \n",
       "151                  psychological, thrilling      rialto  filmstream   \n",
       "\n",
       "     k_means  k_genre        GenreType  \\\n",
       "0          3        0         Thriller   \n",
       "1          3        1            Drama   \n",
       "2          3        1            Drama   \n",
       "3          5        2  Real Life Story   \n",
       "4          2        2  Real Life Story   \n",
       "..       ...      ...              ...   \n",
       "147        2        0         Thriller   \n",
       "148        3        1            Drama   \n",
       "149        4        3          Romance   \n",
       "150        6        2  Real Life Story   \n",
       "151        3        1            Drama   \n",
       "\n",
       "                                                 texts  \n",
       "0    The true story of a man who fooled an entire c...  \n",
       "1    A young woman living in a remote mountain vill...  \n",
       "2    A tale of two brothers who meet for the first ...  \n",
       "3    Discover the drama that went on behind the cam...  \n",
       "4    Based on the true story, an 18-year-old girl f...  \n",
       "..                                                 ...  \n",
       "147  Based on the true story of Jennifer Dulos, a w...  \n",
       "148  Clara, a lonely nurse from the outskirts of Sã...  \n",
       "149  An update to a classic tear-jerker, we witness...  \n",
       "150  Based on the true story of Chris Crean, who to...  \n",
       "151  An ambitious cellist is invited to represent G...  \n",
       "\n",
       "[152 rows x 14 columns]"
      ],
      "text/html": [
       "\n",
       "  <div id=\"df-bb6e041f-2639-463e-b417-ce38ccb7d173\">\n",
       "    <div class=\"colab-df-container\">\n",
       "      <div>\n",
       "<style scoped>\n",
       "    .dataframe tbody tr th:only-of-type {\n",
       "        vertical-align: middle;\n",
       "    }\n",
       "\n",
       "    .dataframe tbody tr th {\n",
       "        vertical-align: top;\n",
       "    }\n",
       "\n",
       "    .dataframe thead th {\n",
       "        text-align: right;\n",
       "    }\n",
       "</style>\n",
       "<table border=\"1\" class=\"dataframe\">\n",
       "  <thead>\n",
       "    <tr style=\"text-align: right;\">\n",
       "      <th></th>\n",
       "      <th>ID</th>\n",
       "      <th>title</th>\n",
       "      <th>description</th>\n",
       "      <th>tag</th>\n",
       "      <th>image</th>\n",
       "      <th>path</th>\n",
       "      <th>genre</th>\n",
       "      <th>mood</th>\n",
       "      <th>distributor</th>\n",
       "      <th>branded-vod</th>\n",
       "      <th>k_means</th>\n",
       "      <th>k_genre</th>\n",
       "      <th>GenreType</th>\n",
       "      <th>texts</th>\n",
       "    </tr>\n",
       "  </thead>\n",
       "  <tbody>\n",
       "    <tr>\n",
       "      <th>0</th>\n",
       "      <td>0</td>\n",
       "      <td>Smoke &amp; Mirrors</td>\n",
       "      <td>The true story of a man who fooled an entire c...</td>\n",
       "      <td>genre:drama/crime-thriller,genre:drama,genre:d...</td>\n",
       "      <td>https://play-images-prod-ctf.tech.tvnz.co.nz/a...</td>\n",
       "      <td>/Users/xutingxuan/Desktop/MSc ADS/B3_Personali...</td>\n",
       "      <td>crime-thriller, drama, foreign-language-subtit...</td>\n",
       "      <td>thrilling, mysterious</td>\n",
       "      <td>rialto</td>\n",
       "      <td>filmstream</td>\n",
       "      <td>3</td>\n",
       "      <td>0</td>\n",
       "      <td>Thriller</td>\n",
       "      <td>The true story of a man who fooled an entire c...</td>\n",
       "    </tr>\n",
       "    <tr>\n",
       "      <th>1</th>\n",
       "      <td>1</td>\n",
       "      <td>Dede</td>\n",
       "      <td>A young woman living in a remote mountain vill...</td>\n",
       "      <td>genre:drama,genre:drama/foreign-language-subti...</td>\n",
       "      <td>https://play-images-prod-ctf.tech.tvnz.co.nz/a...</td>\n",
       "      <td>/Users/xutingxuan/Desktop/MSc ADS/B3_Personali...</td>\n",
       "      <td>drama, foreign-language-subtitled, movie, real...</td>\n",
       "      <td>revealing, all-the-feels</td>\n",
       "      <td>rialto</td>\n",
       "      <td>filmstream</td>\n",
       "      <td>3</td>\n",
       "      <td>1</td>\n",
       "      <td>Drama</td>\n",
       "      <td>A young woman living in a remote mountain vill...</td>\n",
       "    </tr>\n",
       "    <tr>\n",
       "      <th>2</th>\n",
       "      <td>2</td>\n",
       "      <td>The Soul of Flies</td>\n",
       "      <td>A tale of two brothers who meet for the first ...</td>\n",
       "      <td>genre:movie,genre:drama/foreign-language-subti...</td>\n",
       "      <td>https://play-images-prod-ctf.tech.tvnz.co.nz/a...</td>\n",
       "      <td>/Users/xutingxuan/Desktop/MSc ADS/B3_Personali...</td>\n",
       "      <td>movie, foreign-language-subtitled, comedy</td>\n",
       "      <td>quirky, irreverent, cheeky</td>\n",
       "      <td>rialto</td>\n",
       "      <td>filmstream</td>\n",
       "      <td>3</td>\n",
       "      <td>1</td>\n",
       "      <td>Drama</td>\n",
       "      <td>A tale of two brothers who meet for the first ...</td>\n",
       "    </tr>\n",
       "    <tr>\n",
       "      <th>3</th>\n",
       "      <td>3</td>\n",
       "      <td>The Unauthorised Melrose Place Story</td>\n",
       "      <td>Discover the drama that went on behind the cam...</td>\n",
       "      <td>genre:movie,genre:closed-captions,genre:drama,...</td>\n",
       "      <td>https://play-images-prod-ctf.tech.tvnz.co.nz/a...</td>\n",
       "      <td>/Users/xutingxuan/Desktop/MSc ADS/B3_Personali...</td>\n",
       "      <td>movie, closed-captions, drama, real-life-stori...</td>\n",
       "      <td>nostalgic, all-the-feels</td>\n",
       "      <td>a-e</td>\n",
       "      <td>lifetime</td>\n",
       "      <td>5</td>\n",
       "      <td>2</td>\n",
       "      <td>Real Life Story</td>\n",
       "      <td>Discover the drama that went on behind the cam...</td>\n",
       "    </tr>\n",
       "    <tr>\n",
       "      <th>4</th>\n",
       "      <td>4</td>\n",
       "      <td>Stolen By My Mother: The Kamiyah Mobley Story</td>\n",
       "      <td>Based on the true story, an 18-year-old girl f...</td>\n",
       "      <td>genre:movie,genre:drama,genre:drama/real-life-...</td>\n",
       "      <td>https://play-images-prod-ctf.tech.tvnz.co.nz/a...</td>\n",
       "      <td>/Users/xutingxuan/Desktop/MSc ADS/B3_Personali...</td>\n",
       "      <td>movie, drama, real-life-stories</td>\n",
       "      <td></td>\n",
       "      <td>a-e</td>\n",
       "      <td>lifetime</td>\n",
       "      <td>2</td>\n",
       "      <td>2</td>\n",
       "      <td>Real Life Story</td>\n",
       "      <td>Based on the true story, an 18-year-old girl f...</td>\n",
       "    </tr>\n",
       "    <tr>\n",
       "      <th>...</th>\n",
       "      <td>...</td>\n",
       "      <td>...</td>\n",
       "      <td>...</td>\n",
       "      <td>...</td>\n",
       "      <td>...</td>\n",
       "      <td>...</td>\n",
       "      <td>...</td>\n",
       "      <td>...</td>\n",
       "      <td>...</td>\n",
       "      <td>...</td>\n",
       "      <td>...</td>\n",
       "      <td>...</td>\n",
       "      <td>...</td>\n",
       "      <td>...</td>\n",
       "    </tr>\n",
       "    <tr>\n",
       "      <th>147</th>\n",
       "      <td>147</td>\n",
       "      <td>Gone Mom: The Disappearance of Jennifer Dulos</td>\n",
       "      <td>Based on the true story of Jennifer Dulos, a w...</td>\n",
       "      <td>genre:movie,genre:drama/real-life-stories,genr...</td>\n",
       "      <td>https://play-images-prod-ctf.tech.tvnz.co.nz/a...</td>\n",
       "      <td>/Users/xutingxuan/Desktop/MSc ADS/B3_Personali...</td>\n",
       "      <td>movie, real-life-stories, drama, crime-thriller</td>\n",
       "      <td>mysterious, thrilling, all-the-feels</td>\n",
       "      <td>a-e</td>\n",
       "      <td>lifetime</td>\n",
       "      <td>2</td>\n",
       "      <td>0</td>\n",
       "      <td>Thriller</td>\n",
       "      <td>Based on the true story of Jennifer Dulos, a w...</td>\n",
       "    </tr>\n",
       "    <tr>\n",
       "      <th>148</th>\n",
       "      <td>148</td>\n",
       "      <td>Good Manners</td>\n",
       "      <td>Clara, a lonely nurse from the outskirts of Sã...</td>\n",
       "      <td>genre:drama/crime-thriller,genre:drama,genre:d...</td>\n",
       "      <td>https://play-images-prod-ctf.tech.tvnz.co.nz/a...</td>\n",
       "      <td>/Users/xutingxuan/Desktop/MSc ADS/B3_Personali...</td>\n",
       "      <td>crime-thriller, drama, foreign-language-subtit...</td>\n",
       "      <td>mysterious, scary, all-the-feels</td>\n",
       "      <td>rialto</td>\n",
       "      <td>filmstream</td>\n",
       "      <td>3</td>\n",
       "      <td>1</td>\n",
       "      <td>Drama</td>\n",
       "      <td>Clara, a lonely nurse from the outskirts of Sã...</td>\n",
       "    </tr>\n",
       "    <tr>\n",
       "      <th>149</th>\n",
       "      <td>149</td>\n",
       "      <td>Beaches</td>\n",
       "      <td>An update to a classic tear-jerker, we witness...</td>\n",
       "      <td>genre:movie,genre:drama,genre:closed-captions,...</td>\n",
       "      <td>https://play-images-prod-ctf.tech.tvnz.co.nz/a...</td>\n",
       "      <td>/Users/xutingxuan/Desktop/MSc ADS/B3_Personali...</td>\n",
       "      <td>movie, drama, closed-captions</td>\n",
       "      <td>all-the-feels, nostalgic, warm-and-fuzzy</td>\n",
       "      <td>a-e</td>\n",
       "      <td>lifetime</td>\n",
       "      <td>4</td>\n",
       "      <td>3</td>\n",
       "      <td>Romance</td>\n",
       "      <td>An update to a classic tear-jerker, we witness...</td>\n",
       "    </tr>\n",
       "    <tr>\n",
       "      <th>150</th>\n",
       "      <td>150</td>\n",
       "      <td>Resolve</td>\n",
       "      <td>Based on the true story of Chris Crean, who to...</td>\n",
       "      <td>genre:movie,genre:drama,genre:drama/real-life-...</td>\n",
       "      <td>https://play-images-prod-ctf.tech.tvnz.co.nz/a...</td>\n",
       "      <td>/Users/xutingxuan/Desktop/MSc ADS/B3_Personali...</td>\n",
       "      <td>movie, drama, real-life-stories, sunday-theatr...</td>\n",
       "      <td></td>\n",
       "      <td>screentime</td>\n",
       "      <td>NaN</td>\n",
       "      <td>6</td>\n",
       "      <td>2</td>\n",
       "      <td>Real Life Story</td>\n",
       "      <td>Based on the true story of Chris Crean, who to...</td>\n",
       "    </tr>\n",
       "    <tr>\n",
       "      <th>151</th>\n",
       "      <td>151</td>\n",
       "      <td>Homesick</td>\n",
       "      <td>An ambitious cellist is invited to represent G...</td>\n",
       "      <td>genre:drama,genre:drama/foreign-language-subti...</td>\n",
       "      <td>https://play-images-prod-ctf.tech.tvnz.co.nz/a...</td>\n",
       "      <td>/Users/xutingxuan/Desktop/MSc ADS/B3_Personali...</td>\n",
       "      <td>drama, foreign-language-subtitled, movie</td>\n",
       "      <td>psychological, thrilling</td>\n",
       "      <td>rialto</td>\n",
       "      <td>filmstream</td>\n",
       "      <td>3</td>\n",
       "      <td>1</td>\n",
       "      <td>Drama</td>\n",
       "      <td>An ambitious cellist is invited to represent G...</td>\n",
       "    </tr>\n",
       "  </tbody>\n",
       "</table>\n",
       "<p>152 rows × 14 columns</p>\n",
       "</div>\n",
       "      <button class=\"colab-df-convert\" onclick=\"convertToInteractive('df-bb6e041f-2639-463e-b417-ce38ccb7d173')\"\n",
       "              title=\"Convert this dataframe to an interactive table.\"\n",
       "              style=\"display:none;\">\n",
       "        \n",
       "  <svg xmlns=\"http://www.w3.org/2000/svg\" height=\"24px\"viewBox=\"0 0 24 24\"\n",
       "       width=\"24px\">\n",
       "    <path d=\"M0 0h24v24H0V0z\" fill=\"none\"/>\n",
       "    <path d=\"M18.56 5.44l.94 2.06.94-2.06 2.06-.94-2.06-.94-.94-2.06-.94 2.06-2.06.94zm-11 1L8.5 8.5l.94-2.06 2.06-.94-2.06-.94L8.5 2.5l-.94 2.06-2.06.94zm10 10l.94 2.06.94-2.06 2.06-.94-2.06-.94-.94-2.06-.94 2.06-2.06.94z\"/><path d=\"M17.41 7.96l-1.37-1.37c-.4-.4-.92-.59-1.43-.59-.52 0-1.04.2-1.43.59L10.3 9.45l-7.72 7.72c-.78.78-.78 2.05 0 2.83L4 21.41c.39.39.9.59 1.41.59.51 0 1.02-.2 1.41-.59l7.78-7.78 2.81-2.81c.8-.78.8-2.07 0-2.86zM5.41 20L4 18.59l7.72-7.72 1.47 1.35L5.41 20z\"/>\n",
       "  </svg>\n",
       "      </button>\n",
       "      \n",
       "  <style>\n",
       "    .colab-df-container {\n",
       "      display:flex;\n",
       "      flex-wrap:wrap;\n",
       "      gap: 12px;\n",
       "    }\n",
       "\n",
       "    .colab-df-convert {\n",
       "      background-color: #E8F0FE;\n",
       "      border: none;\n",
       "      border-radius: 50%;\n",
       "      cursor: pointer;\n",
       "      display: none;\n",
       "      fill: #1967D2;\n",
       "      height: 32px;\n",
       "      padding: 0 0 0 0;\n",
       "      width: 32px;\n",
       "    }\n",
       "\n",
       "    .colab-df-convert:hover {\n",
       "      background-color: #E2EBFA;\n",
       "      box-shadow: 0px 1px 2px rgba(60, 64, 67, 0.3), 0px 1px 3px 1px rgba(60, 64, 67, 0.15);\n",
       "      fill: #174EA6;\n",
       "    }\n",
       "\n",
       "    [theme=dark] .colab-df-convert {\n",
       "      background-color: #3B4455;\n",
       "      fill: #D2E3FC;\n",
       "    }\n",
       "\n",
       "    [theme=dark] .colab-df-convert:hover {\n",
       "      background-color: #434B5C;\n",
       "      box-shadow: 0px 1px 3px 1px rgba(0, 0, 0, 0.15);\n",
       "      filter: drop-shadow(0px 1px 2px rgba(0, 0, 0, 0.3));\n",
       "      fill: #FFFFFF;\n",
       "    }\n",
       "  </style>\n",
       "\n",
       "      <script>\n",
       "        const buttonEl =\n",
       "          document.querySelector('#df-bb6e041f-2639-463e-b417-ce38ccb7d173 button.colab-df-convert');\n",
       "        buttonEl.style.display =\n",
       "          google.colab.kernel.accessAllowed ? 'block' : 'none';\n",
       "\n",
       "        async function convertToInteractive(key) {\n",
       "          const element = document.querySelector('#df-bb6e041f-2639-463e-b417-ce38ccb7d173');\n",
       "          const dataTable =\n",
       "            await google.colab.kernel.invokeFunction('convertToInteractive',\n",
       "                                                     [key], {});\n",
       "          if (!dataTable) return;\n",
       "\n",
       "          const docLinkHtml = 'Like what you see? Visit the ' +\n",
       "            '<a target=\"_blank\" href=https://colab.research.google.com/notebooks/data_table.ipynb>data table notebook</a>'\n",
       "            + ' to learn more about interactive tables.';\n",
       "          element.innerHTML = '';\n",
       "          dataTable['output_type'] = 'display_data';\n",
       "          await google.colab.output.renderOutput(dataTable, element);\n",
       "          const docLink = document.createElement('div');\n",
       "          docLink.innerHTML = docLinkHtml;\n",
       "          element.appendChild(docLink);\n",
       "        }\n",
       "      </script>\n",
       "    </div>\n",
       "  </div>\n",
       "  "
      ]
     },
     "metadata": {},
     "execution_count": 3
    }
   ],
   "source": [
    "df = pd.read_csv('./dataset/TVNZ_movies_v3.csv')\n",
    "df['mood'].fillna('', inplace = True)\n",
    "df['texts'] = df['description'] + ', ' + df['genre'] + ', ' + df['mood']\n",
    "df"
   ]
  },
  {
   "cell_type": "code",
   "source": [
    "import spacy\n",
    "alldesc = df.texts.values\n",
    "\n",
    "nlp = spacy.load(\"en_core_web_sm\")\n",
    "processed_texts = [text for text in nlp.pipe(alldesc, \n",
    "                                              disable=[\"ner\",\n",
    "                                                       \"parser\"])]\n",
    "df['ptexts'] = processed_texts #add processed_texts to a new column\n",
    "\n",
    "# Tokenization, lemmatization, removing stop word, removing punctuations and filtering word type(nouns)\n",
    "tokenized_texts_desc = [[word.lemma_.lower() for word in processed_text if word.pos_ == 'NOUN'or'VERD'or'ADJ' \n",
    "                                and not word.is_stop and not word.is_punct] for processed_text in processed_texts]"
   ],
   "metadata": {
    "id": "STQURq7A8MEh"
   },
   "id": "STQURq7A8MEh",
   "execution_count": null,
   "outputs": []
  },
  {
   "cell_type": "markdown",
   "source": [
    "# Topic modeling"
   ],
   "metadata": {
    "collapsed": false,
    "pycharm": {
     "name": "#%% md\n"
    }
   }
  },
  {
   "cell_type": "code",
   "source": [
    "import os   \n",
    "\n",
    "!pip uninstall gensim\n",
    "!pip install gensim==3.8.3\n",
    "\n",
    "def install_java():\n",
    "  !apt-get install -y openjdk-8-jdk-headless -qq > /dev/null      \n",
    "  os.environ[\"JAVA_HOME\"] = \"/usr/lib/jvm/java-8-openjdk-amd64\"    \n",
    "  !java -version\n",
    "install_java()\n",
    "\n",
    "\n",
    "!wget http://mallet.cs.umass.edu/dist/mallet-2.0.8.zip\n",
    "!unzip mallet-2.0.8.zip\n",
    "\n",
    "!python -m spacy download nl_core_news_sm"
   ],
   "metadata": {
    "id": "3hGld0hb-Orh"
   },
   "id": "3hGld0hb-Orh",
   "execution_count": null,
   "outputs": []
  },
  {
   "cell_type": "code",
   "source": [
    "# Vectorization\n",
    "from gensim.corpora import Dictionary\n",
    "\n",
    "# Create a dictionary and filter out the words that occur less than two times, and all words that occur in over 70% of the documents.\n",
    "MIN_DF = 2 # minium document frequency\n",
    "MAX_DF = 0.7 # maximum document frequency\n",
    "\n",
    "tokenized_texts = tokenized_texts_desc\n",
    "dictionary = Dictionary(tokenized_texts) # get the vocabulary\n",
    "dictionary.filter_extremes(no_below=MIN_DF, \n",
    "                           no_above=MAX_DF)\n",
    "corpus = [dictionary.doc2bow(text) for text in tokenized_texts]"
   ],
   "metadata": {
    "id": "w_j2vzCxIhSO"
   },
   "id": "w_j2vzCxIhSO",
   "execution_count": null,
   "outputs": []
  },
  {
   "cell_type": "code",
   "source": [
    "# Train the topic model\n",
    "from gensim.models.wrappers import LdaMallet\n",
    "\n",
    "\n",
    "PATH_TO_MALLET = 'mallet-2.0.8/bin/mallet'\n",
    "\n",
    "N_TOPICS = 7 # k = 7: run a topic model with 8 topics\n",
    "N_ITERATIONS = 1000\n",
    "\n",
    "lda = LdaMallet(PATH_TO_MALLET,\n",
    "                corpus=corpus,\n",
    "                id2word=dictionary,\n",
    "                num_topics=N_TOPICS,\n",
    "                optimize_interval=10, \n",
    "                iterations=N_ITERATIONS) "
   ],
   "metadata": {
    "id": "gCt0LSIY-OvE"
   },
   "id": "gCt0LSIY-OvE",
   "execution_count": null,
   "outputs": []
  },
  {
   "cell_type": "code",
   "source": [
    "# Show the key words in each topic\n",
    "for topic in range(N_TOPICS):\n",
    "    words = lda.show_topic(topic, 20)\n",
    "    topic_n_words = ' '.join([word[0] for word in words])\n",
    "    print('Topic {}: {}'.format(str(topic), topic_n_words))"
   ],
   "metadata": {
    "colab": {
     "base_uri": "https://localhost:8080/"
    },
    "id": "baz1usyg-OyX",
    "outputId": "ffba4928-b9de-4c6f-ad66-2a88ca5831f9"
   },
   "id": "baz1usyg-OyX",
   "execution_count": null,
   "outputs": [
    {
     "output_type": "stream",
     "name": "stdout",
     "text": [
      "Topic 0: life romantic romance star feel comedy turn world husband wife discover upside woman david good period cash kid spark psychological\n",
      "Topic 1: closed caption zealand comedy 's star action starring family crack epic find pack ao te back maori good brother boy\n",
      "Topic 2: series family feel casteel base dark mysterious v.c. ' andrews dollanganger heaven sibling life thriller crime 's past grandmother secret\n",
      "Topic 3: story crime thriller thrilling true life mysterious real dark base 's suspenseful psychological star lead woman police sister inspire work\n",
      "Topic 4: story life real make zealand feel caption nz true air reveal support sunday theatre closed star music epic lead base\n",
      "Topic 5: family feel ( christmas love ) town small life romance romantic child find young relationship story girl fight comforting harry\n",
      "Topic 6: subtitle english language foreign feel french spanish 's quirky thought family provoking woman comedy lavish village live irreverent back pack\n"
     ]
    }
   ]
  },
  {
   "cell_type": "code",
   "execution_count": null,
   "id": "bbd10735",
   "metadata": {
    "ExecuteTime": {
     "end_time": "2022-01-31T10:23:10.674109Z",
     "start_time": "2022-01-31T10:23:10.667586Z"
    },
    "id": "bbd10735"
   },
   "outputs": [],
   "source": [
    "# Define helper functions\n",
    "def get_top_n_words(n_top_words, count_vectorizer, text_data):\n",
    "    '''\n",
    "    returns a tuple of the top n words in a sample and their \n",
    "    accompanying counts, given a CountVectorizer object and text sample\n",
    "    '''\n",
    "    vectorized_headlines = count_vectorizer.fit_transform(text_data.values)\n",
    "    vectorized_total = np.sum(vectorized_headlines, axis=0)\n",
    "    word_indices = np.flip(np.argsort(vectorized_total)[0,:], 1)\n",
    "    word_values = np.flip(np.sort(vectorized_total)[0,:],1)\n",
    "    \n",
    "    word_vectors = np.zeros((n_top_words, vectorized_headlines.shape[1]))\n",
    "    for i in range(n_top_words):\n",
    "        word_vectors[i,word_indices[0,i]] = 1\n",
    "\n",
    "    words = [word[0].encode('ascii').decode('utf-8') for \n",
    "             word in count_vectorizer.inverse_transform(word_vectors)]\n",
    "\n",
    "    return (words, word_values[0,:n_top_words].tolist()[0])"
   ]
  },
  {
   "cell_type": "code",
   "execution_count": null,
   "id": "f843c01a",
   "metadata": {
    "ExecuteTime": {
     "end_time": "2022-01-31T10:23:13.470573Z",
     "start_time": "2022-01-31T10:23:12.027842Z"
    },
    "colab": {
     "base_uri": "https://localhost:8080/",
     "height": 571
    },
    "id": "f843c01a",
    "outputId": "9267347c-3e86-457d-ce8e-54e2dbe83bb9"
   },
   "outputs": [
    {
     "output_type": "display_data",
     "data": {
      "text/plain": [
       "<Figure size 1152x576 with 1 Axes>"
      ],
      "image/png": "[encoded data removed]"
     },
     "metadata": {
      "needs_background": "light"
     }
    }
   ],
   "source": [
    "count_vectorizer = CountVectorizer(stop_words='english')\n",
    "words, word_values = get_top_n_words(n_top_words=100,\n",
    "                                     count_vectorizer=count_vectorizer, \n",
    "                                     text_data=df['texts'])\n",
    "\n",
    "fig, ax = plt.subplots(figsize=(16,8))\n",
    "ax.bar(range(len(words)), word_values);\n",
    "ax.set_xticks(range(len(words)));\n",
    "ax.set_xticklabels(words, rotation='vertical');\n",
    "ax.set_title('Top words in headlines dataset (excluding stop words)');\n",
    "ax.set_xlabel('Word');\n",
    "ax.set_ylabel('Number of occurences');\n",
    "plt.show()"
   ]
  },
  {
   "cell_type": "code",
   "execution_count": null,
   "id": "1c0a1b28",
   "metadata": {
    "ExecuteTime": {
     "end_time": "2022-01-31T10:23:21.020328Z",
     "start_time": "2022-01-31T10:23:20.853601Z"
    },
    "id": "1c0a1b28"
   },
   "outputs": [],
   "source": [
    "small_count_vectorizer = CountVectorizer(stop_words='english', max_features=4000)\n",
    "\n",
    "small_document_term_matrix = small_count_vectorizer.fit_transform(df['texts'].values)"
   ]
  },
  {
   "cell_type": "code",
   "execution_count": null,
   "id": "21c5f903",
   "metadata": {
    "ExecuteTime": {
     "end_time": "2022-01-31T10:24:01.177979Z",
     "start_time": "2022-01-31T10:24:01.174783Z"
    },
    "id": "21c5f903"
   },
   "outputs": [],
   "source": [
    "n_topics = 7"
   ]
  },
  {
   "cell_type": "code",
   "execution_count": null,
   "id": "7486c56b",
   "metadata": {
    "ExecuteTime": {
     "end_time": "2022-01-31T10:24:04.155123Z",
     "start_time": "2022-01-31T10:24:01.831469Z"
    },
    "id": "7486c56b"
   },
   "outputs": [],
   "source": [
    "lda_model = LatentDirichletAllocation(n_components=n_topics, learning_method='online', \n",
    "                                          random_state=0, verbose=0)\n",
    "lda_topic_matrix = lda_model.fit_transform(small_document_term_matrix)"
   ]
  },
  {
   "cell_type": "code",
   "execution_count": null,
   "id": "55fc2cbe",
   "metadata": {
    "ExecuteTime": {
     "end_time": "2022-01-31T10:24:04.817521Z",
     "start_time": "2022-01-31T10:24:04.813896Z"
    },
    "id": "55fc2cbe"
   },
   "outputs": [],
   "source": [
    "# Define helper functions\n",
    "def get_keys(topic_matrix):\n",
    "    '''\n",
    "    returns an integer list of predicted topic \n",
    "    categories for a given topic matrix\n",
    "    '''\n",
    "    keys = topic_matrix.argmax(axis=1).tolist()\n",
    "    return keys\n",
    "\n",
    "def keys_to_counts(keys):\n",
    "    '''\n",
    "    returns a tuple of topic categories and their \n",
    "    accompanying magnitudes for a given list of keys\n",
    "    '''\n",
    "    count_pairs = Counter(keys).items()\n",
    "    categories = [pair[0] for pair in count_pairs]\n",
    "    counts = [pair[1] for pair in count_pairs]\n",
    "    return (categories, counts)"
   ]
  },
  {
   "cell_type": "code",
   "execution_count": null,
   "id": "15b09e05",
   "metadata": {
    "ExecuteTime": {
     "end_time": "2022-01-31T10:24:05.690027Z",
     "start_time": "2022-01-31T10:24:05.686550Z"
    },
    "id": "15b09e05"
   },
   "outputs": [],
   "source": [
    "lda_keys = get_keys(lda_topic_matrix)\n",
    "lda_categories, lda_counts = keys_to_counts(lda_keys)"
   ]
  },
  {
   "cell_type": "code",
   "execution_count": null,
   "id": "77d242ba",
   "metadata": {
    "ExecuteTime": {
     "end_time": "2022-01-31T10:24:06.842529Z",
     "start_time": "2022-01-31T10:24:06.835638Z"
    },
    "id": "77d242ba"
   },
   "outputs": [],
   "source": [
    "def get_top_n_words(n, keys, document_term_matrix, count_vectorizer):\n",
    "    '''\n",
    "    returns a list of n_topic strings, where each string contains the n most common \n",
    "    words in a predicted category, in order\n",
    "    '''\n",
    "    top_word_indices = []\n",
    "    for topic in range(n_topics):\n",
    "        temp_vector_sum = 0\n",
    "        for i in range(len(keys)):\n",
    "            if keys[i] == topic:\n",
    "                temp_vector_sum += document_term_matrix[i]\n",
    "        temp_vector_sum = temp_vector_sum.toarray()\n",
    "        top_n_word_indices = np.flip(np.argsort(temp_vector_sum)[0][-n:],0)\n",
    "        top_word_indices.append(top_n_word_indices)   \n",
    "    top_words = []\n",
    "    for topic in top_word_indices:\n",
    "        topic_words = []\n",
    "        for index in topic:\n",
    "            temp_word_vector = np.zeros((1,document_term_matrix.shape[1]))\n",
    "            temp_word_vector[:,index] = 1\n",
    "            the_word = count_vectorizer.inverse_transform(temp_word_vector)[0][0]\n",
    "            topic_words.append(the_word.encode('ascii').decode('utf-8'))\n",
    "        top_words.append(\" \".join(topic_words))         \n",
    "    return top_words"
   ]
  },
  {
   "cell_type": "code",
   "execution_count": null,
   "id": "9319ffce",
   "metadata": {
    "ExecuteTime": {
     "end_time": "2022-01-31T10:24:22.587969Z",
     "start_time": "2022-01-31T10:24:22.582708Z"
    },
    "id": "9319ffce"
   },
   "outputs": [],
   "source": [
    "# Define helper functions\n",
    "def get_mean_topic_vectors(keys, two_dim_vectors):\n",
    "    '''\n",
    "    returns a list of centroid vectors from each predicted topic category\n",
    "    '''\n",
    "    mean_topic_vectors = []\n",
    "    for t in range(n_topics):\n",
    "        articles_in_that_topic = []\n",
    "        for i in range(len(keys)):\n",
    "            if keys[i] == t:\n",
    "                articles_in_that_topic.append(two_dim_vectors[i])    \n",
    "        \n",
    "        articles_in_that_topic = np.vstack(articles_in_that_topic)\n",
    "        mean_article_in_that_topic = np.mean(articles_in_that_topic, axis=0)\n",
    "        mean_topic_vectors.append(mean_article_in_that_topic)\n",
    "    return mean_topic_vectors"
   ]
  },
  {
   "cell_type": "code",
   "execution_count": null,
   "id": "f1c9b818",
   "metadata": {
    "ExecuteTime": {
     "end_time": "2022-01-31T10:24:51.986116Z",
     "start_time": "2022-01-31T10:24:51.981416Z"
    },
    "id": "f1c9b818"
   },
   "outputs": [],
   "source": [
    "colormap = np.array([\n",
    "    \"#1f77b4\", \"#98df8a\", \"#d62728\", \"#ff9896\", \"#9467bd\", \"#c5b0d5\",\n",
    "    \"#8c564b\", \"#c49c94\", \"#e377c2\", \"#f7b6d2\", \"#7f7f7f\",\n",
    "    \"#c7c7c7\", \"#bcbd22\", \"#dbdb8d\", \"#17becf\", \"#9edae5\" ])\n",
    "colormap = colormap[:n_topics]"
   ]
  },
  {
   "cell_type": "code",
   "execution_count": null,
   "id": "86426e76",
   "metadata": {
    "ExecuteTime": {
     "end_time": "2022-01-31T10:24:21.721714Z",
     "start_time": "2022-01-31T10:24:20.467720Z"
    },
    "colab": {
     "base_uri": "https://localhost:8080/"
    },
    "id": "86426e76",
    "outputId": "e8a1d855-169a-4b69-8f6a-019f5c5cab18"
   },
   "outputs": [
    {
     "output_type": "stream",
     "name": "stderr",
     "text": [
      "/usr/local/lib/python3.7/dist-packages/sklearn/manifold/_t_sne.py:783: FutureWarning: The default initialization in TSNE will change from 'random' to 'pca' in 1.2.\n",
      "  FutureWarning,\n"
     ]
    },
    {
     "output_type": "stream",
     "name": "stdout",
     "text": [
      "[t-SNE] Computing 121 nearest neighbors...\n",
      "[t-SNE] Indexed 152 samples in 0.000s...\n",
      "[t-SNE] Computed neighbors for 152 samples in 0.011s...\n",
      "[t-SNE] Computed conditional probabilities for sample 152 / 152\n",
      "[t-SNE] Mean sigma: 0.008439\n",
      "[t-SNE] KL divergence after 250 iterations with early exaggeration: 54.417511\n",
      "[t-SNE] KL divergence after 1550 iterations: 0.068262\n"
     ]
    }
   ],
   "source": [
    "tsne_lda_model = TSNE(n_components=2, perplexity=40, learning_rate=200, \n",
    "                        n_iter=2000, verbose=1, random_state=0, angle=0.75)\n",
    "tsne_lda_vectors = tsne_lda_model.fit_transform(lda_topic_matrix)"
   ]
  },
  {
   "cell_type": "code",
   "execution_count": null,
   "id": "1458ef53",
   "metadata": {
    "ExecuteTime": {
     "end_time": "2022-01-31T10:24:53.116222Z",
     "start_time": "2022-01-31T10:24:52.835293Z"
    },
    "id": "1458ef53"
   },
   "outputs": [],
   "source": [
    "# get words\n",
    "top_3_words_lda = get_top_n_words(10, lda_keys, small_document_term_matrix, small_count_vectorizer)\n",
    "\n",
    "lda_mean_topic_vectors = get_mean_topic_vectors(lda_keys, tsne_lda_vectors)\n",
    "\n",
    "plot = figure(title=\"t-SNE Clustering of {} LDA Topics\".format(n_topics), plot_width=700, plot_height=700)\n",
    "plot.scatter(x=tsne_lda_vectors[:,0], y=tsne_lda_vectors[:,1], color=colormap[lda_keys])\n",
    "\n",
    "show(plot)\n"
   ]
  }
 ],
 "metadata": {
  "kernelspec": {
   "display_name": "Python 3",
   "language": "python",
   "name": "python3"
  },
  "language_info": {
   "codemirror_mode": {
    "name": "ipython",
    "version": 3
   },
   "file_extension": ".py",
   "mimetype": "text/x-python",
   "name": "python",
   "nbconvert_exporter": "python",
   "pygments_lexer": "ipython3",
   "version": "3.8.8"
  },
  "colab": {
   "name": "LDA_0317.ipynb",
   "provenance": [],
   "collapsed_sections": []
  }
 },
 "nbformat": 4,
 "nbformat_minor": 5
}